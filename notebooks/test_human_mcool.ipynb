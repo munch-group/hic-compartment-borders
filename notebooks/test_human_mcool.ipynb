{
 "cells": [
  {
   "cell_type": "markdown",
   "metadata": {},
   "source": [
    "# Visualizing data from PRJNA1160215\n",
    "\n",
    "First, GSE276999_human_sperm.pileup.mcool was downloaded from [NCBI website](https://www.ncbi.nlm.nih.gov/geo/query/acc.cgi?acc=GSE276999)\n",
    "\n",
    "It is scHIC data from human sperm cells. The data is in the form of a (multi)cooler file, which is a binary format for storing genomic data (H5-based)."
   ]
  },
  {
   "cell_type": "code",
   "execution_count": 1,
   "metadata": {},
   "outputs": [],
   "source": [
    "import numpy as np\n",
    "import pandas as pd\n",
    "import matplotlib.pyplot as plt\n",
    "import seaborn as sns\n"
   ]
  },
  {
   "cell_type": "code",
   "execution_count": 2,
   "metadata": {},
   "outputs": [],
   "source": [
    "\n",
    "import cooler\n",
    "from cooler.fileops import list_coolers\n",
    "import cooltools"
   ]
  },
  {
   "cell_type": "markdown",
   "metadata": {},
   "source": [
    "## What is contained in the file? "
   ]
  },
  {
   "cell_type": "code",
   "execution_count": 3,
   "metadata": {},
   "outputs": [
    {
     "data": {
      "text/plain": [
       "['/resolutions/1000',\n",
       " '/resolutions/5000',\n",
       " '/resolutions/10000',\n",
       " '/resolutions/20000',\n",
       " '/resolutions/40000',\n",
       " '/resolutions/50000',\n",
       " '/resolutions/100000',\n",
       " '/resolutions/200000',\n",
       " '/resolutions/400000',\n",
       " '/resolutions/500000',\n",
       " '/resolutions/1000000']"
      ]
     },
     "execution_count": 3,
     "metadata": {},
     "output_type": "execute_result"
    }
   ],
   "source": [
    "mcool_path = \"../steps/test/GSE276999_human_sperm.pileup.mcool\"\n",
    "\n",
    "list_coolers(mcool_path)"
   ]
  },
  {
   "cell_type": "code",
   "execution_count": 11,
   "metadata": {},
   "outputs": [
    {
     "name": "stdout",
     "output_type": "stream",
     "text": [
      "1000000\n",
      " ├── bins\n",
      " │   ├── chrom (3102,) int32\n",
      " │   ├── end (3102,) int32\n",
      " │   ├── start (3102,) int32\n",
      " │   └── weight (3102,) float64\n",
      " ├── chroms\n",
      " │   ├── length (24,) int32\n",
      " │   └── name (24,) |S5\n",
      " ├── indexes\n",
      " │   ├── bin1_offset (3103,) int64\n",
      " │   └── chrom_offset (25,) int64\n",
      " └── pixels\n",
      "     ├── bin1_id (4070389,) int64\n",
      "     ├── bin2_id (4070389,) int64\n",
      "     └── count (4070389,) int32\n"
     ]
    }
   ],
   "source": [
    "!mcool_path=\"../steps/test/GSE276999_human_sperm.pileup.mcool\"\n",
    "!cooler tree $mcool_path::/resolutions/1000000"
   ]
  },
  {
   "cell_type": "code",
   "execution_count": 5,
   "metadata": {},
   "outputs": [],
   "source": [
    "clr = cooler.Cooler(mcool_path+\"::/resolutions/1000000\")"
   ]
  },
  {
   "cell_type": "code",
   "execution_count": 10,
   "metadata": {},
   "outputs": [
    {
     "data": {
      "application/vnd.microsoft.datawrangler.viewer.v0+json": {
       "columns": [
        {
         "name": "index",
         "rawType": "int64",
         "type": "integer"
        },
        {
         "name": "chrom",
         "rawType": "category",
         "type": "unknown"
        },
        {
         "name": "start",
         "rawType": "int32",
         "type": "integer"
        },
        {
         "name": "end",
         "rawType": "int32",
         "type": "integer"
        },
        {
         "name": "weight",
         "rawType": "float64",
         "type": "float"
        }
       ],
       "ref": "40ae8be8-ddc8-44e8-b103-7f51620e316f",
       "rows": [
        [
         "0",
         "chr1",
         "0",
         "1000000",
         null
        ],
        [
         "1",
         "chr1",
         "1000000",
         "2000000",
         null
        ],
        [
         "2",
         "chr1",
         "2000000",
         "3000000",
         null
        ],
        [
         "3",
         "chr1",
         "3000000",
         "4000000",
         "0.005196821108568642"
        ],
        [
         "4",
         "chr1",
         "4000000",
         "5000000",
         "0.003616895686503382"
        ],
        [
         "5",
         "chr1",
         "5000000",
         "6000000",
         "0.0034415567317349943"
        ],
        [
         "6",
         "chr1",
         "6000000",
         "7000000",
         "0.0038108480473716734"
        ],
        [
         "7",
         "chr1",
         "7000000",
         "8000000",
         "0.0033697480339612267"
        ],
        [
         "8",
         "chr1",
         "8000000",
         "9000000",
         "0.0031339625395094156"
        ],
        [
         "9",
         "chr1",
         "9000000",
         "10000000",
         "0.0034470041680613782"
        ]
       ],
       "shape": {
        "columns": 4,
        "rows": 10
       }
      },
      "text/html": [
       "<div>\n",
       "<style scoped>\n",
       "    .dataframe tbody tr th:only-of-type {\n",
       "        vertical-align: middle;\n",
       "    }\n",
       "\n",
       "    .dataframe tbody tr th {\n",
       "        vertical-align: top;\n",
       "    }\n",
       "\n",
       "    .dataframe thead th {\n",
       "        text-align: right;\n",
       "    }\n",
       "</style>\n",
       "<table border=\"1\" class=\"dataframe\">\n",
       "  <thead>\n",
       "    <tr style=\"text-align: right;\">\n",
       "      <th></th>\n",
       "      <th>chrom</th>\n",
       "      <th>start</th>\n",
       "      <th>end</th>\n",
       "      <th>weight</th>\n",
       "    </tr>\n",
       "  </thead>\n",
       "  <tbody>\n",
       "    <tr>\n",
       "      <th>0</th>\n",
       "      <td>chr1</td>\n",
       "      <td>0</td>\n",
       "      <td>1000000</td>\n",
       "      <td>NaN</td>\n",
       "    </tr>\n",
       "    <tr>\n",
       "      <th>1</th>\n",
       "      <td>chr1</td>\n",
       "      <td>1000000</td>\n",
       "      <td>2000000</td>\n",
       "      <td>NaN</td>\n",
       "    </tr>\n",
       "    <tr>\n",
       "      <th>2</th>\n",
       "      <td>chr1</td>\n",
       "      <td>2000000</td>\n",
       "      <td>3000000</td>\n",
       "      <td>NaN</td>\n",
       "    </tr>\n",
       "    <tr>\n",
       "      <th>3</th>\n",
       "      <td>chr1</td>\n",
       "      <td>3000000</td>\n",
       "      <td>4000000</td>\n",
       "      <td>0.005197</td>\n",
       "    </tr>\n",
       "    <tr>\n",
       "      <th>4</th>\n",
       "      <td>chr1</td>\n",
       "      <td>4000000</td>\n",
       "      <td>5000000</td>\n",
       "      <td>0.003617</td>\n",
       "    </tr>\n",
       "    <tr>\n",
       "      <th>5</th>\n",
       "      <td>chr1</td>\n",
       "      <td>5000000</td>\n",
       "      <td>6000000</td>\n",
       "      <td>0.003442</td>\n",
       "    </tr>\n",
       "    <tr>\n",
       "      <th>6</th>\n",
       "      <td>chr1</td>\n",
       "      <td>6000000</td>\n",
       "      <td>7000000</td>\n",
       "      <td>0.003811</td>\n",
       "    </tr>\n",
       "    <tr>\n",
       "      <th>7</th>\n",
       "      <td>chr1</td>\n",
       "      <td>7000000</td>\n",
       "      <td>8000000</td>\n",
       "      <td>0.003370</td>\n",
       "    </tr>\n",
       "    <tr>\n",
       "      <th>8</th>\n",
       "      <td>chr1</td>\n",
       "      <td>8000000</td>\n",
       "      <td>9000000</td>\n",
       "      <td>0.003134</td>\n",
       "    </tr>\n",
       "    <tr>\n",
       "      <th>9</th>\n",
       "      <td>chr1</td>\n",
       "      <td>9000000</td>\n",
       "      <td>10000000</td>\n",
       "      <td>0.003447</td>\n",
       "    </tr>\n",
       "  </tbody>\n",
       "</table>\n",
       "</div>"
      ],
      "text/plain": [
       "  chrom    start       end    weight\n",
       "0  chr1        0   1000000       NaN\n",
       "1  chr1  1000000   2000000       NaN\n",
       "2  chr1  2000000   3000000       NaN\n",
       "3  chr1  3000000   4000000  0.005197\n",
       "4  chr1  4000000   5000000  0.003617\n",
       "5  chr1  5000000   6000000  0.003442\n",
       "6  chr1  6000000   7000000  0.003811\n",
       "7  chr1  7000000   8000000  0.003370\n",
       "8  chr1  8000000   9000000  0.003134\n",
       "9  chr1  9000000  10000000  0.003447"
      ]
     },
     "execution_count": 10,
     "metadata": {},
     "output_type": "execute_result"
    }
   ],
   "source": [
    "clr.bins()[:10]"
   ]
  },
  {
   "cell_type": "code",
   "execution_count": null,
   "metadata": {},
   "outputs": [],
   "source": []
  }
 ],
 "metadata": {
  "kernelspec": {
   "display_name": "hic",
   "language": "python",
   "name": "python3"
  },
  "language_info": {
   "codemirror_mode": {
    "name": "ipython",
    "version": 3
   },
   "file_extension": ".py",
   "mimetype": "text/x-python",
   "name": "python",
   "nbconvert_exporter": "python",
   "pygments_lexer": "ipython3",
   "version": "3.12.2"
  }
 },
 "nbformat": 4,
 "nbformat_minor": 2
}
