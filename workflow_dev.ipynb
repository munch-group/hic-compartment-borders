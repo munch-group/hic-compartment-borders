{
 "cells": [
  {
   "cell_type": "markdown",
   "metadata": {},
   "source": [
    "# GWF Workflow developement"
   ]
  },
  {
   "cell_type": "markdown",
   "metadata": {},
   "source": [
    "## Objective\n",
    "\n",
    "The goal of the workflow is to \n",
    "\n",
    "1) download a given reference sequence (use `genomepy?)\n",
    "2) index the referenece genome for bwa (genomepy as well?)\n",
    "3) locate the HiC data from other folder\n",
    "4) align the HiC data to the reference genome using bwa\n",
    "5) convert to .pairs format (pairtools)\n",
    "6) create coolers in high resolution"
   ]
  },
  {
   "cell_type": "code",
   "execution_count": 1,
   "metadata": {},
   "outputs": [],
   "source": [
    "from gwf import *\n",
    "import os\n",
    "import subprocess\n",
    "import os.path as op\n",
    "import pandas as pd\n",
    "from cooler.fileops import list_coolers\n",
    "from pprintpp import pprint as pp"
   ]
  },
  {
   "cell_type": "code",
   "execution_count": 2,
   "metadata": {},
   "outputs": [],
   "source": [
    "# Create a workflow object\n",
    "gwf = Workflow(defaults={'nodes': 1, 'queue':\"normal\", 'account':\"hic-spermatogenesis\"})\n"
   ]
  },
  {
   "cell_type": "markdown",
   "metadata": {},
   "source": [
    "## Templates"
   ]
  },
  {
   "cell_type": "code",
   "execution_count": null,
   "metadata": {},
   "outputs": [],
   "source": [
    "def dl_idx_ref(name, dir):\n",
    "    \"\"\"\n",
    "    Download the reference genome from NCBI, and index it for bwa\n",
    "    \"\"\"\n",
    "    inputs = []\n",
    "    outputs = [f\"{dir}/{name}.fa\"]\n",
    "    options = {\n",
    "        'memory': '4g',\n",
    "        'walltime': '01:00:00',\n",
    "        'cores': 8,\n",
    "    }\n",
    "    spec = f\"\"\"\n",
    "    genomepy plugin enable bwa && \\\n",
    "    genomepy install {name} --provider ncbi --genomes_dir {dir} --threads 8\n",
    "    \"\"\"\n"
   ]
  }
 ],
 "metadata": {
  "kernelspec": {
   "display_name": "hic",
   "language": "python",
   "name": "python3"
  },
  "language_info": {
   "codemirror_mode": {
    "name": "ipython",
    "version": 3
   },
   "file_extension": ".py",
   "mimetype": "text/x-python",
   "name": "python",
   "nbconvert_exporter": "python",
   "pygments_lexer": "ipython3",
   "version": "3.12.2"
  }
 },
 "nbformat": 4,
 "nbformat_minor": 2
}
